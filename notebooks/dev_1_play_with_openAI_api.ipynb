{
 "cells": [
  {
   "cell_type": "code",
   "execution_count": 1,
   "metadata": {},
   "outputs": [],
   "source": [
    "from openai import OpenAI\n",
    "\n",
    "\n",
    "client = OpenAI(\n",
    "  api_key=\"\"\n",
    ")"
   ]
  },
  {
   "cell_type": "code",
   "execution_count": 10,
   "metadata": {},
   "outputs": [],
   "source": [
    "# Function to configure and interact with ChatGPT for an interview simulation\n",
    "def ask_chatgpt_for_interview(question, difficulty_level=\"medium\", explanation_level=\"detailed\", friendliness=\"friendly\"):\n",
    "    try:\n",
    "        # System message to configure the assistant's behavior for an interview\n",
    "        system_prompt = (\n",
    "            f\"You are an AI configured to simulate an interview and to be an helpful assistant for job interview. \"\n",
    "            f\"The difficulty level of your questions should be {difficulty_level}. \"\n",
    "            f\"Provide {explanation_level} explanations for your answers. \"\n",
    "            f\"Maintain a {friendliness} tone throughout the interaction.\"\n",
    "        )\n",
    "        \n",
    "        # Make a request to the OpenAI API\n",
    "        response = client.chat.completions.create(\n",
    "            model=\"gpt-3.5-turbo\",  # Specify the model to use\n",
    "            messages=[\n",
    "                {\"role\": \"system\", \"content\": system_prompt},  # Configure the system behavior\n",
    "                {\"role\": \"user\", \"content\": question},  # User's question\n",
    "            ],\n",
    "            temperature=0.5,  # Controls the creativity of the response\n",
    "        )\n",
    "        \n",
    "        # Extract the assistant's reply from the API response\n",
    "        answer = response.choices[0].message.content\n",
    "        return answer\n",
    "    except Exception as e:\n",
    "        # Handle any errors that occur\n",
    "        return f\"An error occurred: {e}\"\n",
    "\n",
    "\n"
   ]
  },
  {
   "cell_type": "code",
   "execution_count": 11,
   "metadata": {},
   "outputs": [
    {
     "name": "stdout",
     "output_type": "stream",
     "text": [
      "Assistant's Response: ChatCompletionMessage(content=\"Of course! Here's a challenging question you might encounter in a data scientist interview at a gaming startup:\\n\\n**Question:** How would you approach designing a recommendation system for a multiplayer online game to enhance player engagement and retention?\\n\\n**Explanation:** This question assesses your understanding of recommendation systems, a crucial aspect of data science in the gaming industry. To answer this question effectively, you would need to consider various factors such as player behavior analysis, collaborative filtering techniques, content-based filtering, and possibly even hybrid recommendation systems. \\n\\nYour response should demonstrate your ability to analyze player data, understand player preferences, and ultimately create personalized recommendations to keep players engaged and coming back to the game. Additionally, you may want to discuss how you would evaluate the effectiveness of the recommendation system through metrics like click-through rates, conversion rates, and player feedback.\\n\\nRemember to showcase your technical knowledge, problem-solving skills, and creativity in designing a recommendation system tailored to the unique needs of a gaming startup. Good luck!\", refusal=None, role='assistant', audio=None, function_call=None, tool_calls=None)\n"
     ]
    }
   ],
   "source": [
    "# Example usage\n",
    "question = \"Can you ask me a question related to data scientist interview at gaming startup?\"\n",
    "difficulty = \"hard\"  # Set difficulty level (e.g., easy, medium, hard)\n",
    "explanation = \"detailed\"  # Set explanation level (e.g., brief, detailed, none)\n",
    "friendliness = \"very friendly\"  # Set friendliness level (e.g., friendly, neutral, formal)\n",
    "\n",
    "# Get a response from the configured assistant\n",
    "answer = ask_chatgpt_for_interview(question, difficulty_level=difficulty, explanation_level=explanation, friendliness=friendliness)\n",
    "print(\"Assistant's Response:\", answer)\n"
   ]
  }
 ],
 "metadata": {
  "kernelspec": {
   "display_name": "TTT_py_env",
   "language": "python",
   "name": "python3"
  },
  "language_info": {
   "codemirror_mode": {
    "name": "ipython",
    "version": 3
   },
   "file_extension": ".py",
   "mimetype": "text/x-python",
   "name": "python",
   "nbconvert_exporter": "python",
   "pygments_lexer": "ipython3",
   "version": "3.12.8"
  }
 },
 "nbformat": 4,
 "nbformat_minor": 2
}
